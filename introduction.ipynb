{
 "cells": [
  {
   "cell_type": "markdown",
   "metadata": {},
   "source": [
    "# Introduction to `SEDBuilder`"
   ]
  },
  {
   "cell_type": "markdown",
   "metadata": {},
   "source": [
    "### Welcome! This notebook hopefully provides a sufficient and simple introduction to what `SEDBuilder` does and how to use it. Enjoy, and let me know if you have any questions - Zephyr\n",
    "\n",
    "### Important: `SEDBuilder` currently only works for objects in the 2MASS survey (includes almost all stars), because it uses the 2MASS ID as a unique object identifier. "
   ]
  },
  {
   "cell_type": "code",
   "execution_count": 1,
   "metadata": {
    "collapsed": false
   },
   "outputs": [
    {
     "name": "stderr",
     "output_type": "stream",
     "text": [
      "/Users/Emily/anaconda2/lib/python2.7/site-packages/cryptography/hazmat/primitives/constant_time.py:26: CryptographyDeprecationWarning: Support for your Python version is deprecated. The next version of cryptography will remove support. Please upgrade to a 2.7.x release that supports hmac.compare_digest as soon as possible.\n",
      "  utils.DeprecatedIn23,\n"
     ]
    },
    {
     "name": "stdout",
     "output_type": "stream",
     "text": [
      "Created TAP+ (v1.0.1) - Connection:\n",
      "\tHost: gea.esac.esa.int\n",
      "\tUse HTTPS: False\n",
      "\tPort: 80\n",
      "\tSSL Port: 443\n"
     ]
    }
   ],
   "source": [
    "# You don't have to use autoreload, it's just useful for me while I'm still developing the package.\n",
    "%load_ext autoreload\n",
    "%autoreload 2\n",
    "from __future__ import division, print_function #ONLY NECESSARY IN PYTHON 2\n",
    "import SEDBuilder.spectra  # Very occasionally astroquery.gaia (loaded by SEDBuilder) doesn't import correctly. \n",
    "                            # If so just re-run this.\n",
    "                            # As well as SEDBuilder you'll need to have numpy, astropy, and astroquery installed \n",
    "                            # (and possibly at some point matplotlib).\n",
    "import numpy as np\n",
    "import astropy\n",
    "import os\n",
    "\n",
    "# optional, for plotting\n",
    "import matplotlib.pyplot as plt\n",
    "%matplotlib inline"
   ]
  },
  {
   "cell_type": "markdown",
   "metadata": {},
   "source": [
    "# Examples of using `SEDBuilder`"
   ]
  },
  {
   "cell_type": "markdown",
   "metadata": {},
   "source": [
    "### Let's use v410 x-ray 1 as an example. \n",
    "### We'll idenitfy it by one (of many) of the names Simbad can use to recognise it.\n"
   ]
  },
  {
   "cell_type": "code",
   "execution_count": 2,
   "metadata": {
    "collapsed": true
   },
   "outputs": [],
   "source": [
    "v410xray1 = '[SS94] V410 X-ray 1' # (could also use the coordinates, ra+dec, or any other Simbad-compatible name)"
   ]
  },
  {
   "cell_type": "markdown",
   "metadata": {},
   "source": [
    "# getInfo()\n",
    "### Pulls simple data about this star from Simbad (+Gaia) and puts it into a Python dictionary."
   ]
  },
  {
   "cell_type": "code",
   "execution_count": 3,
   "metadata": {
    "collapsed": false
   },
   "outputs": [
    {
     "name": "stdout",
     "output_type": "stream",
     "text": [
      "\n",
      " _______INFORMATION ABOUT THE STAR\n",
      "RadiusSource :  \n",
      "SimbadName :  IRAS F04147+2822\n",
      "AgSource :  \n",
      "StellarType :  M3.7\n",
      "Teff :  4315.1724\n",
      "Ag :  -1\n",
      "StellarTypeSource :  Herczeg+ 2014\n",
      "Luminosity :  -1\n",
      "LuminositySource :  \n",
      "Distance :  129.03225806451613\n",
      "CoordSource :  Gaia Collaboration 2018\n",
      "Radius :  -1\n",
      "RA :  04 17 49.6578\n",
      "2MASSID :  J04174965+2829362\n",
      "TeffSource :  Gaia Collaboration 2018\n",
      "DistanceSource :  Gaia Collaboration 2018\n",
      "DEC :  +28 29 36.325\n",
      "ObjectType :  TTau*\n"
     ]
    }
   ],
   "source": [
    "starInfo=SEDBuilder.spectra.getInfo(name=v410xray1)\n",
    "# If you'd rather use a coordinate call, getInfo(ra=RA,dec=DEC) will return data for nearest 2MASS object to the specified RA and dec.\n",
    "\n",
    "# And let's have a look at that data (returned as a dictionary)\n",
    "print('\\n _______INFORMATION ABOUT THE STAR')\n",
    "for key in starInfo.keys():\n",
    "    print(key,': ',starInfo[key])\n",
    "# For this particular star, Gaia has no recorded radius, luminosity or dust-reddening coefficient (Ag). \n",
    "# (However, they have calculated that info for many stars, so worth it is still worth checking.)"
   ]
  },
  {
   "cell_type": "markdown",
   "metadata": {},
   "source": [
    "# getSED()\n",
    "### Finds the photometric data points for this object that are tabulated in VizieR and NASA's IRSA database, as well as supplementary metadata of the type returned by getInfo().\n",
    "### It returns the photometric data points in an astropy table, with the supplementary metadata in that table's table.meta attribute.\n",
    "### It should take a few seconds to run.\n",
    "### If getBibcodes=True, it will be slower (~1 minute).\n"
   ]
  },
  {
   "cell_type": "code",
   "execution_count": 5,
   "metadata": {
    "collapsed": false,
    "scrolled": false
   },
   "outputs": [
    {
     "name": "stdout",
     "output_type": "stream",
     "text": [
      "Downloading http://vizier.u-strasbg.fr/viz-bin/sed?-c=04+17+49.6578+28+29+36.325&-c.r=2&-c.u=arcsec [Done]\n",
      "\n",
      " _______MAIN TABLE OF FLUXS:\n",
      "    lambda         flux         error      ...  telescope        bibcode      \n",
      "------------- ------------- -------------- ... ----------- -------------------\n",
      " 4.445103e-07 1.1447982e-08   4.539717e-09 ...       2MASS 2008AJ....136..735L\n",
      "4.6832557e-07    7.7418e-09  3.0638927e-09 ...        POSS 2008AJ....136..735L\n",
      " 4.775549e-07 4.5514597e-09    7.76116e-10 ...  Pan-STARRS 2016arXiv161205560C\n",
      " 5.049655e-07 1.3059328e-08   9.412128e-10 ...        Gaia 2018A&A...616A...1G\n",
      " 6.129955e-07  7.233273e-09 1.03788686e-10 ...  Pan-STARRS 2016arXiv161205560C\n",
      "  6.23053e-07  4.250441e-08  1.3137728e-09 ...        Gaia 2018A&A...616A...1G\n",
      " 6.404372e-07 4.7908156e-08  1.8504982e-08 ...        POSS 2008AJ....136..735L\n",
      "6.7346116e-07 5.5230966e-08  1.0583179e-09 ...        Gaia 2017A&A...600L...4A\n",
      "6.7346116e-07 5.5230966e-08            0.0 ...        Gaia 2016A&A...595A...1G\n",
      "6.7346116e-07 5.5230966e-08            0.0 ...        Gaia 2017yCat.1340....0Z\n",
      "          ...           ...            ... ...         ...                 ...\n",
      "        7e-05  2.393694e-11   5.168849e-12 ...    Herschel 2017arXiv170505693M\n",
      " 7.004763e-05  2.201085e-11  1.8342376e-12 ...    Herschel 2014A&A...570A..29B\n",
      " 7.146941e-05 2.9953737e-11   5.873282e-12 ...     Spitzer 2014A&A...570A..29B\n",
      " 7.146941e-05 3.0071202e-11   6.108213e-12 ...     Spitzer 2010ApJS..186..259R\n",
      "0.00010201999  9.771255e-10            0.0 ...        IRAS 2015A&C....10...99A\n",
      "0.00016011101 1.4277058e-11            0.0 ...    Herschel 2014A&A...570A..29B\n",
      "0.00045030846 1.3906853e-12            0.0 ... Unspecified 2014A&A...570A..29B\n",
      "0.00084985833 3.7382698e-14            0.0 ... Unspecified 2014A&A...570A..29B\n",
      "0.00084985833 3.7382698e-14            0.0 ...       SCUBA 2013ApJ...773..168M\n",
      "  0.000887574   3.42732e-14            0.0 ...         SMA 2013ApJ...771..129A\n",
      " 0.0013333333    5.7375e-15            0.0 ...         SMA 2013ApJ...771..129A\n",
      "Length = 144 rows\n",
      "\n",
      " _______SUPPLEMENTARY INFORMATION\n",
      "RadiusSource :  \n",
      "SimbadName :  IRAS F04147+2822\n",
      "AgSource :  \n",
      "StellarType :  M3.7\n",
      "Teff :  4315.1724\n",
      "Ag :  -1\n",
      "StellarTypeSource :  Herczeg+ 2014\n",
      "Luminosity :  -1\n",
      "LuminositySource :  \n",
      "Distance :  129.03225806451613\n",
      "CoordSource :  Gaia Collaboration 2018\n",
      "Radius :  -1\n",
      "RA :  04 17 49.6578\n",
      "2MASSID :  J04174965+2829362\n",
      "TeffSource :  Gaia Collaboration 2018\n",
      "DistanceSource :  Gaia Collaboration 2018\n",
      "DEC :  +28 29 36.325\n",
      "ObjectType :  TTau*\n",
      "comments :  ['All units for flux+wavelength are SI, I leave it to the user to convert/add astropy units', 'Meta data about the star is stored under indivdual fields', 'e.g. if data stored in variable called \"dataTable\" the R.A. of the star can be found via \"dataTable.meta[\"RA\"]\".', 'Everything intended to be read into astropy tables - either directly or via the getSEDFromFile() function.', 'See https://github.com/zpenoyre/SEDBuilder for more details.', 'Please cite Penoyre+2018 if you make use of this tool or data.']\n"
     ]
    }
   ],
   "source": [
    "table=SEDBuilder.spectra.getSED(name=v410xray1,getBibcodes=True)\n",
    "\n",
    "# Again let's have a look at that data\n",
    "print('\\n _______MAIN TABLE OF FLUXS:')\n",
    "print(table)\n",
    "print('\\n _______SUPPLEMENTARY INFORMATION') # almost exactly the same as what is returned by getInfo()\n",
    "for key in table.meta.keys():\n",
    "    print(key,': ',table.meta[key])"
   ]
  },
  {
   "cell_type": "markdown",
   "metadata": {},
   "source": [
    "### We try our best to identify which telescope each observation is from, but sometimes it's not clearly recorded (or it's just a one-off observation and not from a recognizable survey). You can add new telescopes, or link certain papers with telescopes, by hardcoding them in the getSED function, or asking me to do so.\n"
   ]
  },
  {
   "cell_type": "markdown",
   "metadata": {},
   "source": [
    "# Simple Plot"
   ]
  },
  {
   "cell_type": "markdown",
   "metadata": {},
   "source": [
    "### Let's quickly plot this to see what the SED looks like. The default plotting function takes a matplotlib axes object (if this sounds unfamiliar I really recommend learning about and using them!) and plots all the data. \n",
    "\n",
    "### Specifically it highlights data from particular telescopes, which can be given as an optional argument for the plotting function, here we use the default telescopes (and colours).\n",
    "\n",
    "### Upper limits are plotted as open triangles and all units are SI"
   ]
  },
  {
   "cell_type": "code",
   "execution_count": 6,
   "outputs": [
    {
     "data": {
      "image/png": "[encoded data removed]",
      "text/plain": [
       "<matplotlib.figure.Figure at 0x115dbd290>"
      ]
     },
     "metadata": {},
     "output_type": "display_data"
    }
   ],
   "source": [
    "exampleFig=plt.figure(figsize=(8,6)) # just making sure our plot is a good size\n",
    "\n",
    "examplePlot=plt.gca() # initiallising a matplotlib axes object\n",
    "SEDBuilder.spectra.plotSED(examplePlot,table) # plotting the data\n",
    "plt.show() # and displaying it"
   ]
  },
  {
   "cell_type": "markdown",
   "metadata": {},
   "source": [
    "### For a lot of users, this may be all you need (if you just want an object's SED), but below there's details about how you can do even more by saving the photometric data points to a file."
   ]
  },
  {
   "cell_type": "markdown",
   "metadata": {},
   "source": [
    "# Saving to file and adding new data"
   ]
  },
  {
   "cell_type": "markdown",
   "metadata": {},
   "source": [
    "### Great. Now we could just use the data like this, in an astropy table. However if we save it to file we can do even more, as we can start appending data from other sources (right now we're limited to just those that are easily sourceable and machine-readable online).\n",
    "\n",
    "### First let's just save it to file:"
   ]
  },
  {
   "cell_type": "code",
   "execution_count": 6,
   "metadata": {
    "collapsed": false
   },
   "outputs": [
    {
     "name": "stdout",
     "output_type": "stream",
     "text": [
      "\n",
      " Data file for this star already exists\n",
      "You can find it at:\n",
      "/Users/Zephyr/Google Drive/astro/pythonModules/SEDBuilder/spectraData/J04174965+2829362.ecsv\n",
      "Remember, all stars must have a 2MASS ID to be read, otherwise will default to nearest star in 2MASS catalog\n",
      "The 2MASS ID of this star is:  J04174965+2829362\n",
      "Also known as  IRAS F04147+2822  at coordinates  04 17 49.6578 ,  +28 29 36.325\n",
      "Returning the data from that file\n",
      "To overwrite the file function use argument overwrite = 1 (default = 0)\n",
      "Or to supress this warning set overwrite = -1\n",
      "\n",
      " _______MAIN TABLE OF FLUXS:\n",
      "    lambda         flux         error               source          telescope \n",
      "------------- ------------- -------------- ----------------------- -----------\n",
      " 4.445103e-07 1.1447982e-08   4.539717e-09              STScI 2006       2MASS\n",
      "4.6832557e-07    7.7418e-09  3.0638927e-09              STScI 2006        POSS\n",
      " 4.775549e-07 4.5514597e-09    7.76116e-10          Chambers+ 2016  Pan-STARRS\n",
      " 5.049655e-07 1.3059328e-08   9.412128e-10 Gaia Collaboration 2018        Gaia\n",
      " 6.129955e-07  7.233273e-09 1.03788686e-10          Chambers+ 2016  Pan-STARRS\n",
      "  6.23053e-07  4.250441e-08  1.3137728e-09 Gaia Collaboration 2018        Gaia\n",
      " 6.404372e-07 4.7908156e-08  1.8504982e-08              STScI 2006        POSS\n",
      "6.7346116e-07 5.5230966e-08            0.0         Zacharias+ 2017        Gaia\n",
      "6.7346116e-07 5.5230966e-08            0.0 Gaia Collaboration 2016        Gaia\n",
      "6.7346116e-07 5.5230966e-08  1.0583179e-09           Altmann+ 2017        Gaia\n",
      "          ...           ...            ...                     ...         ...\n",
      " 7.004763e-05  2.201085e-11  1.8342376e-12            Bulger+ 2014    Herschel\n",
      " 7.146941e-05 3.0071202e-11   6.108213e-12            Rebull+ 2010     Spitzer\n",
      " 7.146941e-05 2.9953737e-11   5.873282e-12            Bulger+ 2014     Spitzer\n",
      "0.00010201999  9.771255e-10            0.0        Abrahamyan+ 2015        IRAS\n",
      "0.00016011101 1.4277058e-11            0.0            Bulger+ 2014    Herschel\n",
      "0.00045030846 1.3906853e-12            0.0            Bulger+ 2014 Unspecified\n",
      "0.00084985833 3.7382698e-14            0.0            Bulger+ 2014 Unspecified\n",
      "0.00084985833 3.7382698e-14            0.0           Mohanty+ 2013       SCUBA\n",
      "  0.000887574   3.42732e-14            0.0           Andrews+ 2013         SMA\n",
      "       0.0013  5.325444e-16            0.0          Boneberg+ 2018        ALMA\n",
      " 0.0013333333    5.7375e-15            0.0           Andrews+ 2013         SMA\n",
      "Length = 141 rows\n",
      "\n",
      " _______SUPPLEMENTARY INFORMATION\n",
      "SimbadName :  IRAS F04147+2822\n",
      "2MASSID :  J04174965+2829362\n",
      "ObjectType :  TTau*\n",
      "StellarType :  M4\n",
      "StellarTypeSource :  Ribas+ 2017\n",
      "RA :  04 17 49.6578\n",
      "DEC :  +28 29 36.325\n",
      "CoordSource :  Gaia Collaboration 2018\n",
      "Distance :  129.03225806451613\n",
      "DistanceSource :  Gaia Collaboration 2018\n",
      "Teff :  4315.1724\n",
      "TeffSource :  Gaia Collaboration 2018\n",
      "Radius :  0.53\n",
      "RadiusSource :  Herczeg+ 2014\n",
      "Luminosity :  0.519\n",
      "LuminositySource :  Ribas+ 2017\n",
      "Ag :  -1.0\n",
      "AgSource :  \n",
      "Region :  Taurus\n",
      "RegionSource :  Furlan+ 2011, Andrews+ 2013, Ribas+ 2017, Bulger+ 2014\n",
      "Av :  5.1\n",
      "AvSource :  Ribas+ 2017\n",
      "Age :  12.5892515\n",
      "AgeSource :  Herczeg+ 2014\n",
      "Mass :  0.2\n",
      "MassSource :  Herczeg+ 2014\n",
      "Mdot :  -1.0\n",
      "MdotSource :  \n",
      "DiskMass :  -1.0\n",
      "DiskMassSource :  \n",
      "DiskRadius :  0.6\n",
      "DiskRadiusSource :  Boneberg+ 2018\n",
      "BinaryFlag :  0\n",
      "BinaryFlagSource :  Furlan+ 2011\n",
      "ExtraField :  \n",
      "comments :  ['All units for flux+wavelength are SI, I leave it to the user to convert/add astropy units', 'Meta data about the star is stored under indivdual fields', 'e.g. if data stored in variable called \"dataTable\" the R.A. of the star can be found via \"dataTable.meta[\"RA\"]\".', 'Everything intended to be read into astropy tables - either directly or via the getSpectraFromFile() function.', 'See GITHUB-REPO for more details.', 'Please cite SOME-PAPER if you make use of this tool or data.']\n",
      "FileCreated :  2018-09-17\n"
     ]
    }
   ],
   "source": [
    "# Finds data repository in the install location of the SEDBuilder package.\n",
    "# (though of course you can specify any repository as saveDirectory instead.)\n",
    "SEDDir = os.path.abspath(SEDBuilder.__file__)\n",
    "SEDDir = \"/\".join(SEDDir.split(\"/\")[:-2])\n",
    "saveDirectory=SEDDir+'/spectraData'\n",
    "\n",
    "# Writes data to a file (identified by the star's 2MASS Id) in that directory.\n",
    "# THIS IS CURRENTLY SET TO OVERWRITE EXISTING DATA!\n",
    "# Overwrite behavior:\n",
    "# overwrite = -1 : overwrites nothing\n",
    "# overwrite = 0  [default]: overwrites data only if there's a more recent data point available online.\n",
    "# overwrite = 1  : overwrites everything\n",
    "table = SEDBuilder.spectra.getSED(name=v410xray1,saveDir=saveDirectory,overwrite=0)\n",
    "\n",
    "# Let's have a look at that data.\n",
    "print('\\n _______MAIN TABLE OF FLUXS:')\n",
    "print(table)\n",
    "print('\\n _______SUPPLEMENTARY INFORMATION')\n",
    "for key in table.meta.keys():\n",
    "    print(key,': ',table.meta[key])"
   ]
  },
  {
   "cell_type": "markdown",
   "metadata": {},
   "source": [
    "### Notice, the SED data is the same, but there's a bit more supplementary data (mostly blank fields we may want to fill in later).\n",
    "\n",
    "### Great, now let's add some data about this star from other sources. There are three functions we can use here:\n",
    "* addToMetaData(): add or replace a field in the star's metadata.\n",
    "* addRegionToMetaData(): add's a star's \"region\" to its metadata. This is separate because a star can belong to many regions, or we may want to record multiple authors who have attributed it to that region, while no other metadata field should ever have more than one value/source.\n",
    "* addToSED(): add data point(s) to the star's SED. "
   ]
  },
  {
   "cell_type": "code",
   "execution_count": 7,
   "metadata": {
    "collapsed": false
   },
   "outputs": [
    {
     "name": "stdout",
     "output_type": "stream",
     "text": [
      "\n",
      " Already recorded this source in addRegionToMetadata\n",
      "\n",
      " Trying to add data about property: Luminosity from an older source\n",
      "Existing value of  0.519  comes from  Ribas+ 2017\n",
      "(Note - if exisiting data is from Gaia and not astrometric you may want to replace it, they are fitted to very few data points)\n",
      "You can forcefully write to file by setting overwrite=1\n",
      "For now returning original table\n",
      "You can suppress this warning by setting overwrite=-1\n",
      "\n",
      " Trying to add data about property: Teff from an older source\n",
      "Existing value of  4315.1724  comes from  Gaia Collaboration 2018\n",
      "(Note - if exisiting data is from Gaia and not astrometric you may want to replace it, they are fitted to very few data points)\n",
      "You can forcefully write to file by setting overwrite=1\n",
      "For now returning original table\n",
      "You can suppress this warning by setting overwrite=-1\n",
      "\n",
      " Trying to add data about property: Av from an older source\n",
      "Existing value of  5.1  comes from  Ribas+ 2017\n",
      "(Note - if exisiting data is from Gaia and not astrometric you may want to replace it, they are fitted to very few data points)\n",
      "You can forcefully write to file by setting overwrite=1\n",
      "For now returning original table\n",
      "You can suppress this warning by setting overwrite=-1\n",
      "\n",
      " Trying to add data about property: Mass from an older source\n",
      "Existing value of  0.2  comes from  Herczeg+ 2014\n",
      "(Note - if exisiting data is from Gaia and not astrometric you may want to replace it, they are fitted to very few data points)\n",
      "You can forcefully write to file by setting overwrite=1\n",
      "For now returning original table\n",
      "You can suppress this warning by setting overwrite=-1\n",
      "\n",
      " Trying to add data about property: Age from an older source\n",
      "Existing value of  12.5892515  comes from  Herczeg+ 2014\n",
      "(Note - if exisiting data is from Gaia and not astrometric you may want to replace it, they are fitted to very few data points)\n",
      "You can forcefully write to file by setting overwrite=1\n",
      "For now returning original table\n",
      "You can suppress this warning by setting overwrite=-1\n",
      "\n",
      " Already data in table from this source ( Boneberg+ 2018 )\n",
      "We assume you don't want to duplicate data points so just returning the table saved to file\n",
      "If you really do want to do this you can run the function with overwrite=1\n",
      "\n",
      " _______MAIN TABLE OF FLUXS:\n",
      "    lambda         flux         error               source          telescope \n",
      "------------- ------------- -------------- ----------------------- -----------\n",
      " 4.445103e-07 1.1447982e-08   4.539717e-09              STScI 2006       2MASS\n",
      "4.6832557e-07    7.7418e-09  3.0638927e-09              STScI 2006        POSS\n",
      " 4.775549e-07 4.5514597e-09    7.76116e-10          Chambers+ 2016  Pan-STARRS\n",
      " 5.049655e-07 1.3059328e-08   9.412128e-10 Gaia Collaboration 2018        Gaia\n",
      " 6.129955e-07  7.233273e-09 1.03788686e-10          Chambers+ 2016  Pan-STARRS\n",
      "  6.23053e-07  4.250441e-08  1.3137728e-09 Gaia Collaboration 2018        Gaia\n",
      " 6.404372e-07 4.7908156e-08  1.8504982e-08              STScI 2006        POSS\n",
      "6.7346116e-07 5.5230966e-08            0.0         Zacharias+ 2017        Gaia\n",
      "6.7346116e-07 5.5230966e-08            0.0 Gaia Collaboration 2016        Gaia\n",
      "6.7346116e-07 5.5230966e-08  1.0583179e-09           Altmann+ 2017        Gaia\n",
      "          ...           ...            ...                     ...         ...\n",
      " 7.004763e-05  2.201085e-11  1.8342376e-12            Bulger+ 2014    Herschel\n",
      " 7.146941e-05 3.0071202e-11   6.108213e-12            Rebull+ 2010     Spitzer\n",
      " 7.146941e-05 2.9953737e-11   5.873282e-12            Bulger+ 2014     Spitzer\n",
      "0.00010201999  9.771255e-10            0.0        Abrahamyan+ 2015        IRAS\n",
      "0.00016011101 1.4277058e-11            0.0            Bulger+ 2014    Herschel\n",
      "0.00045030846 1.3906853e-12            0.0            Bulger+ 2014 Unspecified\n",
      "0.00084985833 3.7382698e-14            0.0            Bulger+ 2014 Unspecified\n",
      "0.00084985833 3.7382698e-14            0.0           Mohanty+ 2013       SCUBA\n",
      "  0.000887574   3.42732e-14            0.0           Andrews+ 2013         SMA\n",
      "       0.0013  5.325444e-16            0.0          Boneberg+ 2018        ALMA\n",
      " 0.0013333333    5.7375e-15            0.0           Andrews+ 2013         SMA\n",
      "Length = 141 rows\n",
      "\n",
      " _______SUPPLEMENTARY INFORMATION\n",
      "SimbadName :  IRAS F04147+2822\n",
      "2MASSID :  J04174965+2829362\n",
      "ObjectType :  TTau*\n",
      "StellarType :  M4\n",
      "StellarTypeSource :  Ribas+ 2017\n",
      "RA :  04 17 49.6578\n",
      "DEC :  +28 29 36.325\n",
      "CoordSource :  Gaia Collaboration 2018\n",
      "Distance :  129.03225806451613\n",
      "DistanceSource :  Gaia Collaboration 2018\n",
      "Teff :  4315.1724\n",
      "TeffSource :  Gaia Collaboration 2018\n",
      "Radius :  0.53\n",
      "RadiusSource :  Herczeg+ 2014\n",
      "Luminosity :  0.519\n",
      "LuminositySource :  Ribas+ 2017\n",
      "Ag :  -1.0\n",
      "AgSource :  \n",
      "Region :  Taurus\n",
      "RegionSource :  Furlan+ 2011, Andrews+ 2013, Ribas+ 2017, Bulger+ 2014\n",
      "Av :  5.1\n",
      "AvSource :  Ribas+ 2017\n",
      "Age :  12.5892515\n",
      "AgeSource :  Herczeg+ 2014\n",
      "Mass :  0.2\n",
      "MassSource :  Herczeg+ 2014\n",
      "Mdot :  -1.0\n",
      "MdotSource :  \n",
      "DiskMass :  -1.0\n",
      "DiskMassSource :  \n",
      "DiskRadius :  0.6\n",
      "DiskRadiusSource :  Boneberg+ 2018\n",
      "BinaryFlag :  0\n",
      "BinaryFlagSource :  Furlan+ 2011\n",
      "ExtraField :  \n",
      "comments :  ['All units for flux+wavelength are SI, I leave it to the user to convert/add astropy units', 'Meta data about the star is stored under indivdual fields', 'e.g. if data stored in variable called \"dataTable\" the R.A. of the star can be found via \"dataTable.meta[\"RA\"]\".', 'Everything intended to be read into astropy tables - either directly or via the getSpectraFromFile() function.', 'See GITHUB-REPO for more details.', 'Please cite SOME-PAPER if you make use of this tool or data.']\n",
      "FileCreated :  2018-09-17\n"
     ]
    },
    {
     "name": "stderr",
     "output_type": "stream",
     "text": [
      "WARNING: AstropyDeprecationWarning: /Users/Zephyr/Google Drive/astro/pythonModules/SEDBuilder/spectraData/J04174965+2829362.ecsv already exists. Automatically overwriting ASCII files is deprecated. Use the argument 'overwrite=True' in the future. [astropy.io.ascii.ui]\n"
     ]
    }
   ],
   "source": [
    "# Already there's some useful info stored in the file and the table's metadata, but let's add more.\n",
    "\n",
    "# There are two types of metadata we can add:\n",
    "# 1. the object's on-sky region, which may take on multiple values (e.g. an object may belong to both \"Eta-Cha\" and \"Cha-I\")\n",
    "# 2. any other metadata, which should have a single unique value.\n",
    "\n",
    "# First, the on-sky region:\n",
    "twoMassId = table.meta['2MASSID'] # This is the universal identifier used for the star.\n",
    "Source='Andrews+ 2013'\n",
    "Region='Taurus'\n",
    "SEDBuilder.spectra.addRegionToMetadata(twoMassId,saveDirectory,Region,Source) # Special version of addToMetadata\n",
    "# If you want to keep track of which papers refer to a specific star, you can keep calling addRegionToMetadata,\n",
    "# and it will just add more sources. Again, all other metadata fields can only be specified once, with one source.\n",
    "\n",
    "\n",
    "# Next, some other data about the star from the above source.\n",
    "Luminosity=0.45 # in Lsun\n",
    "Teff=3270 # in Kelvin\n",
    "Av=3.67\n",
    "\n",
    "# We could add these fields individually, e.g.:\n",
    "SEDBuilder.spectra.addToMetadata(twoMassId,saveDirectory,'Luminosity',Luminosity,Source,overwrite=0)\n",
    "\n",
    "# Or we can save some effort by adding them as a list:\n",
    "SEDBuilder.spectra.addToMetadata(twoMassId,saveDirectory,['Teff','Av'],[Teff,Av],Source,overwrite=0)\n",
    "# Note - with overwrite=0 [default], this function call won't actually add the new Teff to the file,\n",
    "# because this star has a newer Teff value from Gaia. Instead it will return a warning and continue.\n",
    "# If you really wanted to add it, you could set overwrite=1 in the function call.\n",
    "# (This behaviour occurs a lot in SEDBuilder--I want to make it hard - but possible - for the user to overwrite \n",
    "# good data, and close to impossible to duplicate data.)\n",
    "\n",
    "\n",
    "# What about some metadata from a whole bunch of sources? Easy.\n",
    "sources=['Siess+ 2000','Siess+ 2000','Boneberg+ 2018']\n",
    "fields=['Mass','Age','DiskRadius']\n",
    "values=[0.245,1.29,0.6] # in Msun, Gyr and AU respectively\n",
    "SEDBuilder.spectra.addToMetadata(twoMassId,saveDirectory,fields,values,sources)\n",
    "\n",
    "# Finally, let's add a data point to the SED (in the form of a numpy array. Here, we only have one data point, but this function could add many at a time.)\n",
    "l=np.array([1.3e-3]) # wavelength in m\n",
    "f=np.array([0.3*1e-29*3e8/(l**2)]) # flux in W m (here converting from a value given for F_nu in mJ)\n",
    "e=np.array([0]) # error in flux in W m. An error of 0 means the point is an upper limit.\n",
    "SEDBuilder.spectra.addToSED(twoMassId,saveDirectory,l,f,e,'Boneberg+ 2018','ALMA')\n",
    "\n",
    "# Retrieve all this data as an astropy table (actually, all the above functions return this, but it's conceptually easier to just retrieve it at the end.)\n",
    "table=SEDBuilder.spectra.getSEDFromFile(twoMassId,saveDirectory)\n",
    "\n",
    "# One last look at the data\n",
    "print('\\n _______MAIN TABLE OF FLUXS:')\n",
    "print(table)\n",
    "print('\\n _______SUPPLEMENTARY INFORMATION')\n",
    "for property in table.meta:\n",
    "    print(property,': ',table.meta[property])"
   ]
  },
  {
   "cell_type": "code",
   "execution_count": 8,
   "metadata": {
    "collapsed": false
   },
   "outputs": [
    {
     "name": "stdout",
     "output_type": "stream",
     "text": [
      "     source     \n",
      "----------------\n",
      "Abrahamyan+ 2015\n",
      "   Altmann+ 2017\n",
      "   Andrews+ 2013\n",
      "  Boneberg+ 2018\n",
      "    Bulger+ 2014\n",
      "        CMC 2011\n",
      "  Chambers+ 2016\n",
      "     Cutri+ 2003\n",
      "     Cutri+ 2012\n",
      "     Cutri+ 2013\n",
      "             ...\n",
      "      Meng+ 2017\n",
      "   Mohanty+ 2013\n",
      "     Motch+ 2016\n",
      "    Rebull+ 2010\n",
      "    Roeser+ 2008\n",
      "    Roeser+ 2010\n",
      "      STScI 2006\n",
      "    Takita+ 2010\n",
      " Zacharias+ 2005\n",
      " Zacharias+ 2012\n",
      " Zacharias+ 2017\n",
      "Length = 33 rows\n"
     ]
    }
   ],
   "source": [
    "#How many references have we just collated to get the SED data about this object?\n",
    "print(np.unique(table[\"source\"]))\n",
    "# Note that if we actually just wanted to work with data from a few sources we could select (using in/np.where/np.argwhere/np.flatnonzero) just the entries from those papers"
   ]
  },
  {
   "cell_type": "markdown",
   "metadata": {},
   "source": [
    "### Finally, try running this cells again. Notice that it warns you that you're trying to duplicate data (if it didn't the first time).\n",
    "\n",
    "### It won't break when you do this, it just ignores your request and continues. (In most places you can set overwrite=1 to force it to overwrite/duplicate). \n",
    "\n",
    "### Overwriting is a bit scary generally, if you're going to do it I suggest starting from scratch (running getSED() with overwrite=1 and appending brand new data)."
   ]
  },
  {
   "cell_type": "markdown",
   "metadata": {},
   "source": [
    "# Notes and extras:\n",
    "\n",
    "- This tool is, by design, very agnostic. It collects all the data it can find. The data is not cleaned, it comes from many sources and some may not be using the same conventions. The philosphy is that with enough data these variations become invisible. This is a bad philosphy. The point of SEDBuilder is to make SED data accesesible, visible and usable, but be very wary that the flood of data may be hiding significant trends or variations. I advise that you plot everything you work with, no better tool than the human eye.\n",
    "\n",
    "- As a follow up, you won't have to look at a large number of spectra (i.e. more than 2) to start spotting some data points that seem like clear outliers. They probably are, either just rogue data points, multiple objects in view (particularly a problem with IRAS) or even perfectly physical and completely unhelpful variability. If you want to fit anything you'll likely need to decide how to handle these, maybe on a case by case basis, and use a lot of care.\n",
    "\n",
    "- If one author uses a data point from another publication, and publishes it in a machine readable form, Vizier will find both and both data points will appear here. They may be identical or slightly shifted (e.g. if they've been dereddened - a whole issue in itself). Watch out for doubling up (a tool that ~deals with this is on its way, see below).\n",
    "\n",
    "- If you're getting a ton of warnings (especially from astroquery.IRSA) you can uncomment a few lines at the top of spectra.py. This will suppress all warnings, probably a fine thing to do but I'm leaving it on while developing the package.\n",
    "\n",
    "- If you want there is an optional parameter windowSize in getSED which limits how large a region around the star to return SED points from. The default value is windowSize=2 (in milli-arcseconds) and is the radius within which SED points are returned. The center point is the star position according to Simbad (not always perfect, hence I suggest not making windowSize < ~1). Equally, some measurements can be quite far from the star, but still have it as the main object in the field. However, if you think you're getting contamination from a nearby source you can try decreasing it.\n",
    "\n",
    "- There's a (blank) extra field, called 'ExtraField', in the data in which you can record any other detail you wish. If you use this a lot you might want to hardcode that parameter, or ask me to. You can write to it easily using 'rewriteExtraField(twoMassID,saveDir,entry)' where entry is whatever you want to put in there (Note that in saving it, I think this will be converted to a string. You can put whatever you want in there, including arrays, dictionaries or lists, if you can convert it to a string and back.)\n",
    "\n",
    "- If you're just enjoying the quick access to Simbad via getInfo() you may want to use the getCoords() function. It's very simple, just takes a (Simbad recognised) name and returns the coordiantes of that object. Not used anywhere here but thought I'd leave it in.\n",
    "\n",
    "- If you ask me what coordinate scheme everything is in my response will be \"normal\". Any further questions in that vein will be ignored. Don't blame me, blame yourselves astronomers."
   ]
  },
  {
   "cell_type": "markdown",
   "metadata": {},
   "source": [
    "# New features and bugs:\n",
    "\n",
    "- At the moment the only way you could keep track of all the data here is to loop through all the files. I'll have a think about the best way to keep track of all this (maybe just write a function that does that loop and records some data).\n",
    "\n",
    "- I also may add a tool to quickly clean data. Probably it will just limit itself to returning the most recent data point from only recent surveys, giving a much shorter, more evenly sampled, and hopefully representative set of data. There's no one way to do this so others may want to write their own/give suggestions.\n",
    "\n",
    "- This package makes a lot of use of astroquery and the Vizier SED tool. To their authors, thank you for those invaluable resources. To everyone else, please keep in mind with whatever you're doing if it can and should be easily accesible online. Monkey work should be limited to zoologists.\n",
    "\n",
    "- Sometimes astroquery.Gaia seems to stop working for a few hours. I think that's all at their end, but it seems the mos tempremental data source. Either wait a bit and try again, or go to the source and replace \"gaiaData()\" with \"0,0,0,0\" in getInfo() if you really can't wait.\n",
    "\n",
    "- No bugs! (that I know of (yet)) A few parts of the package may go stale if not updated. If there are any new catalogs you think I should be using let me know (e.g. if I haven't updated everything to the newest Gaia data release)."
   ]
  },
  {
   "cell_type": "markdown",
   "metadata": {},
   "source": [
    "# _ _ _ _ _ _ _ _ _ _ _\n",
    "# Here be dragons!\n",
    "# Below is messy code, mostly me writing and testing the package, but may add more features and explanations later."
   ]
  },
  {
   "cell_type": "code",
   "execution_count": 21,
   "metadata": {
    "collapsed": false
   },
   "outputs": [
    {
     "data": {
      "image/png": "[encoded data removed]",
      "text/plain": [
       "<Figure size 576x432 with 1 Axes>"
      ]
     },
     "metadata": {},
     "output_type": "display_data"
    },
    {
     "data": {
      "image/png": "[encoded data removed]",
      "text/plain": [
       "<Figure size 576x432 with 1 Axes>"
      ]
     },
     "metadata": {},
     "output_type": "display_data"
    }
   ],
   "source": [
    "exampleFig=plt.figure(figsize=(8,6)) # just making sure our plot is a good size\n",
    "\n",
    "examplePlot=plt.gca() # initiallising a matplotlib axes object\n",
    "SEDBuilder.spectra.plotSED(examplePlot,table) # plotting the data\n",
    "plt.show() # and displaying it\n",
    "\n",
    "cleanTable=SEDBuilder.spectra.cleanData(table)\n",
    "exampleFig=plt.figure(figsize=(8,6)) # just making sure our plot is a good size\n",
    "\n",
    "examplePlot=plt.gca() # initiallising a matplotlib axes object\n",
    "SEDBuilder.spectra.plotSED(examplePlot,cleanTable) # plotting the data\n",
    "plt.show() # and displaying it"
   ]
  },
  {
   "cell_type": "code",
   "execution_count": null,
   "metadata": {
    "collapsed": false
   },
   "outputs": [],
   "source": [
    "for key in table.meta.keys():\n",
    "    print(key,': \\t\\t',table.meta[key])\n",
    "    #print(table.meta[key])\n",
    "#print(table.meta)"
   ]
  },
  {
   "cell_type": "code",
   "execution_count": null,
   "metadata": {
    "collapsed": false
   },
   "outputs": [],
   "source": [
    "saveDir='/Users/Zephyr/Google Drive/astro/pythonModules/SEDBuilder/spectraData'\n",
    "tmName='J04174965+2829362'\n",
    "table=SEDBuilder.spectra.addToMetadata(tmName,saveDir,'Hello',1,'me')\n",
    "#fileTable=SEDBuilder.spectra.getSEDFromFile(tmName,saveDir)\n",
    "#fileTable=astropy.io.ascii.read('/Users/Zephyr/Google Drive/astro/pythonModules/SEDBuilder/spectraData/J04174965+2829362.ecsv')\n",
    "#print(fileTable)\n",
    "#for key in fileTable.meta.keys():\n",
    "#    print('key: ',key)\n",
    "#    print(fileTable.meta[key])\n",
    "#    print(type(fileTable.meta[key]))"
   ]
  },
  {
   "cell_type": "code",
   "execution_count": null,
   "metadata": {
    "collapsed": false
   },
   "outputs": [],
   "source": [
    "import astroquery.simbad\n",
    "import astroquery.vizier\n",
    "simbad=astroquery.simbad.Simbad()\n",
    "simbad.add_votable_fields('sptype')\n",
    "simbad.add_votable_fields('ids')\n",
    "simbad.add_votable_fields('otype')\n",
    "simbad.add_votable_fields('plx')\n",
    "simbad.add_votable_fields('plx_bibcode')\n",
    "star=simbad.query_object(v410)\n",
    "print(star)\n",
    "print(star.keys())\n",
    "print(star['SP_TYPE'])\n",
    "print(star['SP_BIBCODE'])\n",
    "spTypeBib=star['SP_BIBCODE']\n",
    "\n",
    "catalogs=astroquery.vizier.Vizier.find_catalogs(spTypeBib)\n",
    "print(SEDBuilder.spectra.getRef(spTypeBib))\n",
    "description=catalogs[list(catalogs.items())[0][0]].description\n",
    "reference=description[description.rfind('(')+1:description.rfind(')')]\n",
    "print(catalogs)\n",
    "print(description)\n",
    "print(reference)"
   ]
  },
  {
   "cell_type": "code",
   "execution_count": null,
   "metadata": {
    "collapsed": false
   },
   "outputs": [],
   "source": [
    "astroquery.simbad.Simbad.list_votable_fields()"
   ]
  },
  {
   "cell_type": "code",
   "execution_count": null,
   "metadata": {
    "collapsed": false
   },
   "outputs": [],
   "source": [
    "import astroquery\n",
    "astroquery.simbad.Simbad.get_field_description('sp')"
   ]
  },
  {
   "cell_type": "code",
   "execution_count": null,
   "metadata": {
    "collapsed": true
   },
   "outputs": [],
   "source": []
  }
 ],
 "metadata": {
  "kernelspec": {
   "display_name": "Python 2",
   "language": "python",
   "name": "python2"
  },
  "language_info": {
   "codemirror_mode": {
    "name": "ipython",
    "version": 2
   },
   "file_extension": ".py",
   "mimetype": "text/x-python",
   "name": "python",
   "nbconvert_exporter": "python",
   "pygments_lexer": "ipython2",
   "version": "2.7.6"
  }
 },
 "nbformat": 4,
 "nbformat_minor": 2
}
